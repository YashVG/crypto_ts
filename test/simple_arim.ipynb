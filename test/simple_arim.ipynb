{
 "cells": [
  {
   "cell_type": "code",
   "execution_count": 1,
   "metadata": {},
   "outputs": [
    {
     "name": "stdout",
     "output_type": "stream",
     "text": [
      "Performing stepwise search to minimize aic\n",
      " ARIMA(2,1,2)(1,0,1)[12] intercept   : AIC=2915.873, Time=0.14 sec\n",
      " ARIMA(0,1,0)(0,0,0)[12] intercept   : AIC=3049.597, Time=0.01 sec\n",
      " ARIMA(1,1,0)(1,0,0)[12] intercept   : AIC=2954.975, Time=0.05 sec\n",
      " ARIMA(0,1,1)(0,0,1)[12] intercept   : AIC=2947.028, Time=0.05 sec\n",
      " ARIMA(0,1,0)(0,0,0)[12]             : AIC=3047.612, Time=0.01 sec\n",
      " ARIMA(2,1,2)(0,0,1)[12] intercept   : AIC=2940.108, Time=0.08 sec\n",
      " ARIMA(2,1,2)(1,0,0)[12] intercept   : AIC=2915.651, Time=0.06 sec\n",
      " ARIMA(2,1,2)(0,0,0)[12] intercept   : AIC=2986.348, Time=0.03 sec\n",
      " ARIMA(2,1,2)(2,0,0)[12] intercept   : AIC=2915.275, Time=0.25 sec\n",
      " ARIMA(2,1,2)(2,0,1)[12] intercept   : AIC=2918.411, Time=0.39 sec\n",
      " ARIMA(1,1,2)(2,0,0)[12] intercept   : AIC=2925.080, Time=0.26 sec\n",
      " ARIMA(2,1,1)(2,0,0)[12] intercept   : AIC=2911.330, Time=0.25 sec\n",
      " ARIMA(2,1,1)(1,0,0)[12] intercept   : AIC=2911.555, Time=0.08 sec\n",
      " ARIMA(2,1,1)(2,0,1)[12] intercept   : AIC=2914.196, Time=0.25 sec\n",
      " ARIMA(2,1,1)(1,0,1)[12] intercept   : AIC=2912.289, Time=0.07 sec\n",
      " ARIMA(1,1,1)(2,0,0)[12] intercept   : AIC=2920.327, Time=0.18 sec\n",
      " ARIMA(2,1,0)(2,0,0)[12] intercept   : AIC=2928.273, Time=0.25 sec\n",
      " ARIMA(3,1,1)(2,0,0)[12] intercept   : AIC=2912.939, Time=0.26 sec\n",
      " ARIMA(1,1,0)(2,0,0)[12] intercept   : AIC=2954.804, Time=0.21 sec\n",
      " ARIMA(3,1,0)(2,0,0)[12] intercept   : AIC=2914.414, Time=0.27 sec\n",
      " ARIMA(3,1,2)(2,0,0)[12] intercept   : AIC=2915.331, Time=0.36 sec\n",
      " ARIMA(2,1,1)(2,0,0)[12]             : AIC=2908.221, Time=0.23 sec\n",
      " ARIMA(2,1,1)(1,0,0)[12]             : AIC=2909.011, Time=0.14 sec\n",
      " ARIMA(2,1,1)(2,0,1)[12]             : AIC=2910.144, Time=0.23 sec\n",
      " ARIMA(2,1,1)(1,0,1)[12]             : AIC=2908.093, Time=0.08 sec\n",
      " ARIMA(2,1,1)(0,0,1)[12]             : AIC=2933.343, Time=0.07 sec\n",
      " ARIMA(2,1,1)(1,0,2)[12]             : AIC=2910.039, Time=0.34 sec\n",
      " ARIMA(2,1,1)(0,0,0)[12]             : AIC=2980.096, Time=0.02 sec\n",
      " ARIMA(2,1,1)(0,0,2)[12]             : AIC=2921.090, Time=0.32 sec\n",
      " ARIMA(2,1,1)(2,0,2)[12]             : AIC=2912.081, Time=0.35 sec\n",
      " ARIMA(1,1,1)(1,0,1)[12]             : AIC=2915.531, Time=0.07 sec\n",
      " ARIMA(2,1,0)(1,0,1)[12]             : AIC=2925.551, Time=0.07 sec\n",
      " ARIMA(3,1,1)(1,0,1)[12]             : AIC=2911.034, Time=0.10 sec\n",
      " ARIMA(2,1,2)(1,0,1)[12]             : AIC=2913.397, Time=0.10 sec\n",
      " ARIMA(1,1,0)(1,0,1)[12]             : AIC=2952.580, Time=0.06 sec\n",
      " ARIMA(1,1,2)(1,0,1)[12]             : AIC=2922.527, Time=0.09 sec\n",
      " ARIMA(3,1,0)(1,0,1)[12]             : AIC=2912.590, Time=0.08 sec\n",
      " ARIMA(3,1,2)(1,0,1)[12]             : AIC=2913.867, Time=0.16 sec\n",
      "\n",
      "Best model:  ARIMA(2,1,1)(1,0,1)[12]          \n",
      "Total fit time: 7.657 seconds\n"
     ]
    },
    {
     "data": {
      "image/png": "[encoded data removed]",
      "text/plain": [
       "<Figure size 432x288 with 1 Axes>"
      ]
     },
     "metadata": {
      "needs_background": "light"
     },
     "output_type": "display_data"
    }
   ],
   "source": [
    "import pmdarima as pm\n",
    "from pmdarima import model_selection\n",
    "import numpy as np\n",
    "from matplotlib import pyplot as plt\n",
    "\n",
    "# #############################################################################\n",
    "# Load the data and split it into separate pieces\n",
    "data = pm.datasets.load_wineind()\n",
    "train, test = model_selection.train_test_split(data, train_size=150)\n",
    "\n",
    "# Fit a simple auto_arima model\n",
    "arima = pm.auto_arima(train, error_action='ignore', trace=True,\n",
    "                      suppress_warnings=True, maxiter=5,\n",
    "                      seasonal=True, m=12)\n",
    "\n",
    "# #############################################################################\n",
    "# Plot actual test vs. forecasts:\n",
    "x = np.arange(test.shape[0])\n",
    "plt.scatter(x, test, marker='x')\n",
    "plt.plot(x, arima.predict(n_periods=test.shape[0]))\n",
    "plt.title('Actual test samples vs. forecasts')\n",
    "plt.show()"
   ]
  },
  {
   "cell_type": "code",
   "execution_count": 2,
   "metadata": {},
   "outputs": [
    {
     "data": {
      "text/plain": [
       "array([15136., 16733., 20016., 17708., 18019., 19227., 22893., 23739.,\n",
       "       21133., 22591., 26786., 29740., 15028., 17977., 20008., 21354.,\n",
       "       19498., 22125., 25817., 28779., 20960., 22254., 27392., 29945.,\n",
       "       16933., 17892., 20533., 23569., 22417., 22084., 26580., 27454.,\n",
       "       24081., 23451., 28991., 31386., 16896., 20045., 23471., 21747.,\n",
       "       25621., 23859., 25500., 30998., 24475., 23145., 29701., 34365.,\n",
       "       17556., 22077., 25702., 22214., 26886., 23191., 27831., 35406.,\n",
       "       23195., 25110., 30009., 36242., 18450., 21845., 26488., 22394.,\n",
       "       28057., 25451., 24872., 33424., 24052., 28449., 33533., 37351.,\n",
       "       19969., 21701., 26249., 24493., 24603., 26485., 30723., 34569.,\n",
       "       26689., 26157., 32064., 38870., 21337., 19419., 23166., 28286.,\n",
       "       24570., 24001., 33151., 24878., 26804., 28967., 33311., 40226.,\n",
       "       20504., 23060., 23562., 27562., 23940., 24584., 34303., 25517.,\n",
       "       23494., 29095., 32903., 34379., 16991., 21109., 23740., 25552.,\n",
       "       21752., 20294., 29009., 25500., 24166., 26960., 31222., 38641.,\n",
       "       14672., 17543., 25453., 32683., 22449., 22316., 27595., 25451.,\n",
       "       25421., 25288., 32568., 35110., 16052., 22146., 21198., 19543.,\n",
       "       22084., 23816., 29961., 26773., 26635., 26972., 30207., 38687.,\n",
       "       16974., 21697., 24179., 23757., 25013., 24019., 30345., 24488.,\n",
       "       25156., 25650., 30923., 37240., 17466., 19463., 24352., 26805.,\n",
       "       25236., 24735., 29356., 31234., 22724., 28496., 32857., 37198.,\n",
       "       13652., 22784., 23565., 26323., 23779., 27549., 29660., 23356.])"
      ]
     },
     "execution_count": 2,
     "metadata": {},
     "output_type": "execute_result"
    }
   ],
   "source": [
    "data"
   ]
  }
 ],
 "metadata": {
  "kernelspec": {
   "display_name": "Python 3",
   "language": "python",
   "name": "python3"
  },
  "language_info": {
   "codemirror_mode": {
    "name": "ipython",
    "version": 3
   },
   "file_extension": ".py",
   "mimetype": "text/x-python",
   "name": "python",
   "nbconvert_exporter": "python",
   "pygments_lexer": "ipython3",
   "version": "3.8.-1"
  }
 },
 "nbformat": 4,
 "nbformat_minor": 2
}
